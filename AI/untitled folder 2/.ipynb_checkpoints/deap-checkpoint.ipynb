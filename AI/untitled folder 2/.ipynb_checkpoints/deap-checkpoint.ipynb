{
 "cells": [
  {
   "cell_type": "markdown",
   "id": "3688b7f5",
   "metadata": {},
   "source": [
    "# Úvod do DEAP (Distributed Evolutionary Algorithms in Python)\n",
    "\n",
    "instalace v terminálu pomocí \n",
    "\n",
    "conda install -c conda-forge deap "
   ]
  },
  {
   "cell_type": "code",
   "execution_count": 1,
   "id": "7435cc3e",
   "metadata": {},
   "outputs": [],
   "source": [
    "import numpy as np\n",
    "\n",
    "import random\n",
    "\n",
    "from deap import base, creator, tools, algorithms\n",
    "\n"
   ]
  },
  {
   "cell_type": "markdown",
   "id": "b7c6862d",
   "metadata": {},
   "source": [
    "## Vytváření nových typů\n",
    "---"
   ]
  },
  {
   "cell_type": "markdown",
   "id": "3d117fdd",
   "metadata": {},
   "source": [
    "### Fitness\n",
    "params: název, objekt fitness, -1.0 minimalizace / 1.0 maximalizace"
   ]
  },
  {
   "cell_type": "code",
   "execution_count": 22,
   "id": "138f24db",
   "metadata": {},
   "outputs": [
    {
     "name": "stderr",
     "output_type": "stream",
     "text": [
      "/Users/jakubstudnicka/.venv/lib/python3.9/site-packages/deap/creator.py:185: RuntimeWarning: A class named 'FitnessMax' has already been created and it will be overwritten. Consider deleting previous creation of that class or rename it.\n",
      "  warnings.warn(\"A class named '{0}' has already been created and it \"\n"
     ]
    }
   ],
   "source": [
    "creator.create(\"FitnessMax\", base.Fitness, weights=(1.0,))"
   ]
  },
  {
   "cell_type": "code",
   "execution_count": null,
   "id": "bed3f881",
   "metadata": {},
   "outputs": [],
   "source": []
  },
  {
   "cell_type": "markdown",
   "id": "24ae1ad0",
   "metadata": {},
   "source": [
    "### Individua\n",
    "params: název, třída datové struktury, fitness dle existující zaregistrované\n",
    "\n",
    "budeme pracovat s listy (jde i numpy pole ale pozor na views!)\n",
    "\n",
    "existuje celá řada typů: permutace, stromy, atd."
   ]
  },
  {
   "cell_type": "code",
   "execution_count": 23,
   "id": "d8842e77",
   "metadata": {},
   "outputs": [
    {
     "name": "stderr",
     "output_type": "stream",
     "text": [
      "/Users/jakubstudnicka/.venv/lib/python3.9/site-packages/deap/creator.py:185: RuntimeWarning: A class named 'Individual' has already been created and it will be overwritten. Consider deleting previous creation of that class or rename it.\n",
      "  warnings.warn(\"A class named '{0}' has already been created and it \"\n"
     ]
    }
   ],
   "source": [
    "creator.create(\"Individual\", list, fitness=creator.FitnessMax)"
   ]
  },
  {
   "cell_type": "code",
   "execution_count": null,
   "id": "686fc667",
   "metadata": {},
   "outputs": [],
   "source": []
  },
  {
   "cell_type": "code",
   "execution_count": 24,
   "id": "64ea366f",
   "metadata": {},
   "outputs": [],
   "source": [
    "toolbox = base.Toolbox()\n",
    "\n",
    "toolbox.register(\"attr_float\", random.randint, 0, 1)\n",
    "toolbox.register(\"individual\", tools.initRepeat, creator.Individual,\n",
    "                 toolbox.attr_float, n=10)\n",
    "#toolbox.register(\"individual\", initind, IND_LEN)  # název, funkce, poporade parametry krmici funkci"
   ]
  },
  {
   "cell_type": "code",
   "execution_count": 25,
   "id": "fa9c820b",
   "metadata": {},
   "outputs": [
    {
     "name": "stdout",
     "output_type": "stream",
     "text": [
      "[0, 1, 0, 1, 1, 0, 1, 0, 1, 0]\n"
     ]
    },
    {
     "data": {
      "text/plain": [
       "1"
      ]
     },
     "execution_count": 25,
     "metadata": {},
     "output_type": "execute_result"
    }
   ],
   "source": [
    "ind1 = toolbox.individual()\n",
    "print(ind1)\n",
    "ind1[1]"
   ]
  },
  {
   "cell_type": "code",
   "execution_count": 26,
   "id": "2e4949f0",
   "metadata": {},
   "outputs": [
    {
     "data": {
      "text/plain": [
       "()"
      ]
     },
     "execution_count": 26,
     "metadata": {},
     "output_type": "execute_result"
    }
   ],
   "source": [
    "ind1.fitness.values\n"
   ]
  },
  {
   "cell_type": "code",
   "execution_count": null,
   "id": "dfb876a5",
   "metadata": {},
   "outputs": [],
   "source": []
  },
  {
   "cell_type": "markdown",
   "id": "c9bf361e",
   "metadata": {},
   "source": [
    "### Populace"
   ]
  },
  {
   "cell_type": "code",
   "execution_count": 27,
   "id": "5957077d",
   "metadata": {},
   "outputs": [],
   "source": [
    "toolbox.register(\"population\", tools.initRepeat, list, toolbox.individual)\n",
    "# init repeat opakuje dle parametru za ni, tedy dela list individui dle zakladni inicializace individua\n"
   ]
  },
  {
   "cell_type": "code",
   "execution_count": 28,
   "id": "e24fedea",
   "metadata": {},
   "outputs": [
    {
     "name": "stdout",
     "output_type": "stream",
     "text": [
      "[[0, 1, 0, 1, 1, 0, 0, 1, 0, 0], [0, 0, 0, 0, 1, 1, 1, 0, 0, 0], [0, 0, 1, 0, 0, 0, 0, 1, 0, 1], [0, 1, 0, 1, 1, 1, 1, 1, 0, 1], [1, 0, 0, 0, 0, 0, 1, 0, 1, 0], [0, 0, 0, 1, 0, 0, 1, 0, 1, 1], [1, 0, 1, 1, 0, 1, 1, 1, 0, 1], [0, 0, 1, 0, 0, 0, 0, 0, 1, 1], [1, 1, 1, 0, 1, 0, 0, 0, 1, 1], [0, 0, 1, 1, 1, 0, 0, 0, 1, 0]]\n"
     ]
    }
   ],
   "source": [
    "pop = toolbox.population(n=10)\n",
    "print(pop)"
   ]
  },
  {
   "cell_type": "markdown",
   "id": "8c7b30d2",
   "metadata": {},
   "source": [
    "## Fitness\n",
    "---\n",
    "Tuto funkci si musíme napsat sami !!!"
   ]
  },
  {
   "cell_type": "code",
   "execution_count": 29,
   "id": "ad32ee6b",
   "metadata": {},
   "outputs": [],
   "source": [
    "def evaluate(individual):\n",
    "    return sum(individual),    # !!!! vracíme n-tici, proto ta čárka"
   ]
  },
  {
   "cell_type": "code",
   "execution_count": 30,
   "id": "3de71ee3",
   "metadata": {},
   "outputs": [],
   "source": [
    "toolbox.register(\"evaluate\", evaluate)"
   ]
  },
  {
   "cell_type": "markdown",
   "id": "80981009",
   "metadata": {},
   "source": [
    "## Operátory\n",
    "---\n",
    "\n",
    "sada operátorů lze nalézt v [dokumentaci](https://deap.readthedocs.io/en/master/api/tools.html#module-deap.tools)"
   ]
  },
  {
   "cell_type": "code",
   "execution_count": 31,
   "id": "74baac08",
   "metadata": {},
   "outputs": [],
   "source": [
    "toolbox.register(\"mate\", tools.cxOnePoint)\n",
    "toolbox.register(\"mutate\", tools.mutUniformInt, low=0, up=1, indpb=0.05)\n",
    "toolbox.register(\"select\", tools.selTournament, tournsize=3)"
   ]
  },
  {
   "cell_type": "code",
   "execution_count": null,
   "id": "d0522e20",
   "metadata": {},
   "outputs": [],
   "source": []
  },
  {
   "cell_type": "markdown",
   "id": "b0e065fa",
   "metadata": {},
   "source": [
    "## Jednoduchý algoritmus\n",
    "---"
   ]
  },
  {
   "cell_type": "code",
   "execution_count": 32,
   "id": "1b6f4e11",
   "metadata": {
    "scrolled": true
   },
   "outputs": [
    {
     "name": "stdout",
     "output_type": "stream",
     "text": [
      "gen\tnevals\n",
      "0  \t10    \n",
      "1  \t9     \n",
      "2  \t7     \n",
      "3  \t5     \n",
      "4  \t8     \n",
      "5  \t10    \n",
      "6  \t8     \n",
      "7  \t10    \n",
      "8  \t8     \n",
      "9  \t10    \n",
      "10 \t4     \n",
      "11 \t7     \n",
      "12 \t7     \n",
      "13 \t6     \n",
      "14 \t7     \n",
      "15 \t9     \n",
      "16 \t8     \n",
      "17 \t8     \n",
      "18 \t6     \n",
      "19 \t9     \n",
      "20 \t8     \n",
      "21 \t6     \n",
      "22 \t8     \n",
      "23 \t8     \n",
      "24 \t5     \n",
      "25 \t8     \n",
      "26 \t8     \n",
      "27 \t5     \n",
      "28 \t6     \n",
      "29 \t9     \n",
      "30 \t8     \n",
      "31 \t10    \n",
      "32 \t8     \n",
      "33 \t6     \n",
      "34 \t6     \n",
      "35 \t8     \n",
      "36 \t8     \n",
      "37 \t10    \n",
      "38 \t6     \n",
      "39 \t8     \n",
      "40 \t9     \n",
      "41 \t9     \n",
      "42 \t9     \n",
      "43 \t10    \n",
      "44 \t10    \n",
      "45 \t9     \n",
      "46 \t8     \n",
      "47 \t8     \n",
      "48 \t7     \n",
      "49 \t7     \n",
      "50 \t8     \n"
     ]
    }
   ],
   "source": [
    "# hlavní parametry vystrčené kvůli experimentování\n",
    "\n",
    "NGEN = 50            # počet generací\n",
    "CXPB = 0.01           # pravděpodobnost crossoveru na páru\n",
    "MUTPB = 0.2         # pravděpodobnost mutace jedince\n",
    "\n",
    "finalpop, logbook = algorithms.eaSimple(pop, toolbox, cxpb=CXPB, mutpb=MUTPB, ngen=NGEN)\n"
   ]
  },
  {
   "cell_type": "markdown",
   "id": "7f8f5d12",
   "metadata": {},
   "source": [
    "## Statistika\n",
    "---"
   ]
  },
  {
   "cell_type": "code",
   "execution_count": 33,
   "id": "9caf68b2",
   "metadata": {
    "scrolled": true
   },
   "outputs": [
    {
     "name": "stdout",
     "output_type": "stream",
     "text": [
      "gen\tnevals\tmean\tmax\n",
      "0  \t10    \t5.1 \t7  \n",
      "1  \t6     \t6.1 \t8  \n",
      "2  \t10    \t7.5 \t9  \n",
      "3  \t6     \t7.8 \t9  \n",
      "4  \t7     \t8.4 \t9  \n",
      "5  \t6     \t8.8 \t9  \n",
      "6  \t7     \t9   \t9  \n",
      "7  \t7     \t9   \t9  \n",
      "8  \t10    \t9   \t9  \n",
      "9  \t9     \t8.9 \t9  \n",
      "10 \t10    \t9   \t9  \n",
      "11 \t7     \t9   \t9  \n",
      "12 \t7     \t9   \t10 \n",
      "13 \t5     \t9.1 \t10 \n",
      "14 \t8     \t9.1 \t10 \n",
      "15 \t7     \t9.1 \t10 \n",
      "16 \t6     \t9   \t10 \n",
      "17 \t10    \t9.3 \t10 \n",
      "18 \t9     \t9.7 \t10 \n",
      "19 \t9     \t9.9 \t10 \n",
      "20 \t10    \t9.9 \t10 \n",
      "21 \t5     \t9.9 \t10 \n",
      "22 \t8     \t10  \t10 \n",
      "23 \t9     \t9.7 \t10 \n",
      "24 \t7     \t9.8 \t10 \n",
      "25 \t9     \t9.8 \t10 \n",
      "26 \t8     \t9.8 \t10 \n",
      "27 \t10    \t9.9 \t10 \n",
      "28 \t8     \t9.9 \t10 \n",
      "29 \t8     \t9.9 \t10 \n",
      "30 \t8     \t10  \t10 \n",
      "31 \t8     \t10  \t10 \n",
      "32 \t9     \t10  \t10 \n",
      "33 \t8     \t10  \t10 \n",
      "34 \t8     \t9.9 \t10 \n",
      "35 \t10    \t10  \t10 \n",
      "36 \t8     \t10  \t10 \n",
      "37 \t4     \t9.9 \t10 \n",
      "38 \t7     \t10  \t10 \n",
      "39 \t6     \t10  \t10 \n",
      "40 \t5     \t9.8 \t10 \n",
      "41 \t7     \t10  \t10 \n",
      "42 \t7     \t10  \t10 \n",
      "43 \t6     \t10  \t10 \n",
      "44 \t10    \t10  \t10 \n",
      "45 \t7     \t10  \t10 \n",
      "46 \t10    \t10  \t10 \n",
      "47 \t9     \t10  \t10 \n",
      "48 \t6     \t10  \t10 \n",
      "49 \t8     \t10  \t10 \n",
      "50 \t9     \t10  \t10 \n"
     ]
    }
   ],
   "source": [
    "import numpy as np\n",
    "\n",
    "s = tools.Statistics(key=lambda ind: ind.fitness.values)\n",
    "s.register(\"mean\", np.mean)\n",
    "s.register(\"max\", np.max)\n",
    "\n",
    "\n",
    "hof = tools.HallOfFame(1)  # pamatuje si 1 nejlepšího jedince za historii evoluce (i když zanikne)\n",
    "\n",
    "pop = toolbox.population(n=10)\n",
    "\n",
    "\n",
    "finalpop, logbook = algorithms.eaSimple(pop, toolbox, cxpb=CXPB, mutpb=MUTPB, ngen=NGEN, stats=s, halloffame=hof)"
   ]
  },
  {
   "cell_type": "code",
   "execution_count": 34,
   "id": "6a88410c",
   "metadata": {},
   "outputs": [
    {
     "name": "stdout",
     "output_type": "stream",
     "text": [
      "[[1, 1, 1, 1, 1, 1, 1, 1, 1, 1]]\n"
     ]
    }
   ],
   "source": [
    "mean, maximum = logbook.select(\"mean\", \"max\")\n",
    "\n",
    "\n",
    "print(hof)"
   ]
  },
  {
   "cell_type": "markdown",
   "id": "9a56dd8d",
   "metadata": {},
   "source": [
    "## Kreslení statistiky\n",
    "---"
   ]
  },
  {
   "cell_type": "code",
   "execution_count": 21,
   "id": "de992307",
   "metadata": {},
   "outputs": [
    {
     "data": {
      "text/plain": [
       "<matplotlib.legend.Legend at 0x1165f8340>"
      ]
     },
     "execution_count": 21,
     "metadata": {},
     "output_type": "execute_result"
    },
    {
     "data": {
      "image/png": "[encoded data removed]",
      "text/plain": [
       "<Figure size 640x480 with 1 Axes>"
      ]
     },
     "metadata": {},
     "output_type": "display_data"
    }
   ],
   "source": [
    "import matplotlib.pyplot as plt\n",
    "\n",
    "fig, ax = plt.subplots()\n",
    "\n",
    "ax.plot(range(NGEN+1), mean, label=\"mean\")     # 0.tá generace zvlášť\n",
    "ax.plot(range(NGEN+1), maximum, label=\"max\")\n",
    "\n",
    "ax.legend()"
   ]
  },
  {
   "cell_type": "markdown",
   "id": "53728750",
   "metadata": {},
   "source": [
    "## Aplikace na barvení grafu\n",
    "---"
   ]
  },
  {
   "cell_type": "markdown",
   "id": "ca111384",
   "metadata": {},
   "source": [
    "### Načtení dat"
   ]
  },
  {
   "cell_type": "code",
   "execution_count": null,
   "id": "f67e7f17",
   "metadata": {},
   "outputs": [],
   "source": [
    "import numpy as np\n",
    "import networkx as nx\n",
    "\n",
    "\n",
    "\n",
    "# funkce pro nacitani grafu z Dimacs formatu\n",
    "def readdimacs(filename):\n",
    "\n",
    "    file = open(filename, 'r')\n",
    "    lines = file.readlines()\n",
    "\n",
    "    Gd = nx.Graph()\n",
    "\n",
    "    for line in lines:\n",
    "        if line[0] == \"e\":\n",
    "            vs = [int(s) for s in line.split() if s.isdigit()]\n",
    "            Gd.add_edge(vs[0]-1, vs[1]-1)   # dimacs cisluje vrcholy od 1\n",
    "    return Gd\n",
    "\n",
    "Gd = nx.Graph()\n",
    "Gd = readdimacs('dsjc125.1.txt')\n",
    "\n",
    "\n"
   ]
  },
  {
   "cell_type": "markdown",
   "id": "18eefe7f",
   "metadata": {},
   "source": [
    "### Definice GA"
   ]
  },
  {
   "cell_type": "code",
   "execution_count": null,
   "id": "4aba30a1",
   "metadata": {},
   "outputs": [],
   "source": [
    "\n",
    "COLNUM = 10 # počet barev\n",
    "\n",
    "N = Gd.number_of_nodes()\n",
    "\n",
    "creator.create(\"FitnessMax\", base.Fitness, weights=(-1.0,))  # minimalizujeme počet kolizí\n",
    "\n",
    "creator.create(\"Individual\", list, fitness=creator.FitnessMax)\n",
    "\n",
    "\n",
    "toolbox = base.Toolbox()\n",
    "\n",
    "toolbox.register(\"attr_float\", random.randint, 0, COLNUM)\n",
    "toolbox.register(\"individual\", tools.initRepeat, creator.Individual,\n",
    "                 toolbox.attr_float, n=N)\n",
    "\n",
    "\n",
    "toolbox.register(\"population\", tools.initRepeat, list, toolbox.individual)\n",
    "\n",
    "\n",
    "# vrací celkový počet kolizí\n",
    "def evaluate(individual):\n",
    "\n",
    "    collisions = 0\n",
    "\n",
    "    for i in range(N-1):\n",
    "        for j in range(i, N):\n",
    "            if Gd.has_edge(i, j):\n",
    "                if individual[i] == individual[j]:\n",
    "                    collisions += 1\n",
    "    return collisions, # !!!! vracíme n-tici, proto ta čárka\n",
    "\n",
    "\n",
    "toolbox.register(\"evaluate\", evaluate)\n",
    "\n",
    "\n",
    "toolbox.register(\"mate\", tools.cxOnePoint)\n",
    "toolbox.register(\"mutate\", tools.mutUniformInt, low=0, up=COLNUM, indpb=0.01)\n",
    "toolbox.register(\"select\", tools.selTournament, tournsize=2)\n",
    "\n",
    "\n",
    "\n",
    "NGEN = 150          # počet generací\n",
    "CXPB = 0.5           # pravděpodobnost crossoveru na páru\n",
    "MUTPB = 0.7         # pravděpodobnost mutace\n",
    "\n",
    "\n",
    "\n",
    "s = tools.Statistics(key=lambda ind: ind.fitness.values)\n",
    "s.register(\"mean\", np.mean)\n",
    "s.register(\"min\", np.min)\n",
    "\n",
    "pop = toolbox.population(n=100)\n",
    "\n",
    "\n",
    "finalpop, logbook = algorithms.eaSimple(pop, toolbox, cxpb=CXPB, mutpb=MUTPB, ngen=NGEN, stats=s)"
   ]
  },
  {
   "cell_type": "markdown",
   "id": "cdad642c",
   "metadata": {},
   "source": [
    "### Vykreslení fitness"
   ]
  },
  {
   "cell_type": "code",
   "execution_count": null,
   "id": "1b6a8470",
   "metadata": {},
   "outputs": [],
   "source": [
    "mean, minimum = logbook.select(\"mean\", \"min\")\n",
    "\n",
    "fig, ax = plt.subplots()\n",
    "\n",
    "ax.plot(range(NGEN+1), mean, label=\"mean\")     # 0.tá generace zvlášť\n",
    "ax.plot(range(NGEN+1), minimum, label=\"min\")\n",
    "ax.legend()"
   ]
  },
  {
   "cell_type": "code",
   "execution_count": null,
   "id": "f3d14b09",
   "metadata": {},
   "outputs": [],
   "source": []
  },
  {
   "cell_type": "code",
   "execution_count": null,
   "id": "d59ea4b3",
   "metadata": {},
   "outputs": [],
   "source": []
  },
  {
   "cell_type": "code",
   "execution_count": null,
   "id": "1d74138e",
   "metadata": {},
   "outputs": [],
   "source": []
  },
  {
   "cell_type": "code",
   "execution_count": null,
   "id": "d7f79c79",
   "metadata": {},
   "outputs": [],
   "source": []
  }
 ],
 "metadata": {
  "kernelspec": {
   "display_name": "Python 3 (ipykernel)",
   "language": "python",
   "name": "python3"
  },
  "language_info": {
   "codemirror_mode": {
    "name": "ipython",
    "version": 3
   },
   "file_extension": ".py",
   "mimetype": "text/x-python",
   "name": "python",
   "nbconvert_exporter": "python",
   "pygments_lexer": "ipython3",
   "version": "3.9.6"
  }
 },
 "nbformat": 4,
 "nbformat_minor": 5
}
